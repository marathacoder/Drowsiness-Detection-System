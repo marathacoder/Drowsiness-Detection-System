{
 "cells": [
  {
   "cell_type": "code",
   "execution_count": 1,
   "id": "531c50c6-eee5-4cf9-8afe-5205bc13e300",
   "metadata": {},
   "outputs": [],
   "source": [
    "#importing libraries\n",
    "import tensorflow as tf\n",
    "from tensorflow.keras.models import Sequential\n",
    "from tensorflow.keras.layers import Conv2D, MaxPooling2D, Flatten, Dense, Dropout"
   ]
  },
  {
   "cell_type": "code",
   "execution_count": 2,
   "id": "097e445d-6e0b-41bd-8aa2-3f20b0c228f9",
   "metadata": {},
   "outputs": [
    {
     "name": "stderr",
     "output_type": "stream",
     "text": [
      "C:\\Users\\Lenovo\\AppData\\Local\\Programs\\Python\\Python312\\Lib\\site-packages\\keras\\src\\layers\\convolutional\\base_conv.py:99: UserWarning: Do not pass an `input_shape`/`input_dim` argument to a layer. When using Sequential models, prefer using an `Input(shape)` object as the first layer in the model instead.\n",
      "  super().__init__(\n"
     ]
    }
   ],
   "source": [
    "#Building CNN architecture\n",
    "model = Sequential([\n",
    "    Conv2D(32, (3, 3), activation='relu', input_shape=(74, 74, 3)),\n",
    "    MaxPooling2D((2, 2)),\n",
    "    Conv2D(64, (3, 3), activation='relu'),\n",
    "    MaxPooling2D((2, 2)),\n",
    "    Flatten(),\n",
    "    Dense(128, activation='relu'),\n",
    "    Dropout(0.5),\n",
    "    Dense(1, activation='sigmoid')\n",
    "])"
   ]
  },
  {
   "cell_type": "code",
   "execution_count": 3,
   "id": "c94d26d7-2546-471d-a224-54d3cdce2eb8",
   "metadata": {},
   "outputs": [],
   "source": [
    "model.compile(optimizer='adam', loss='binary_crossentropy', metrics=['accuracy'])"
   ]
  },
  {
   "cell_type": "code",
   "execution_count": 4,
   "id": "4852c11d-478b-4605-9f38-e1659876a7c5",
   "metadata": {},
   "outputs": [],
   "source": [
    "#Trainig Data\n",
    "from tensorflow.keras.preprocessing.image import ImageDataGenerator"
   ]
  },
  {
   "cell_type": "code",
   "execution_count": 5,
   "id": "ac3e5648-3719-4dcd-a934-3630b3d031e4",
   "metadata": {},
   "outputs": [],
   "source": [
    "data_directory = \"C:/Users/Lenovo/Desktop/test/train\""
   ]
  },
  {
   "cell_type": "code",
   "execution_count": 6,
   "id": "c3656a38-74f5-4019-a6d8-1610baf3d592",
   "metadata": {},
   "outputs": [],
   "source": [
    "height, width = 74, 74  \n",
    "batch_size = 2000"
   ]
  },
  {
   "cell_type": "code",
   "execution_count": 7,
   "id": "e1039dac-2d70-4954-b90d-cc81fa8ce75b",
   "metadata": {},
   "outputs": [],
   "source": [
    "data_generator = ImageDataGenerator(\n",
    "    rescale=1./255,\n",
    "    rotation_range=10,\n",
    "    width_shift_range=0.1,\n",
    "    height_shift_range=0.1,\n",
    "    shear_range=0.1,\n",
    "    zoom_range=0.1,\n",
    "    horizontal_flip=True,\n",
    "    fill_mode='nearest'\n",
    ")"
   ]
  },
  {
   "cell_type": "code",
   "execution_count": 8,
   "id": "0f8c1d60-bc43-4236-bed0-75e345d12686",
   "metadata": {},
   "outputs": [
    {
     "name": "stdout",
     "output_type": "stream",
     "text": [
      "Found 4000 images belonging to 2 classes.\n"
     ]
    }
   ],
   "source": [
    "train_generator = data_generator.flow_from_directory(\n",
    "    data_directory,\n",
    "    target_size=(height, width),\n",
    "    batch_size=batch_size,\n",
    "    class_mode='binary'  \n",
    ")"
   ]
  },
  {
   "cell_type": "code",
   "execution_count": 10,
   "id": "378c6b35-f814-437b-8445-46b07a9086d3",
   "metadata": {},
   "outputs": [
    {
     "name": "stdout",
     "output_type": "stream",
     "text": [
      "Epoch 1/2\n",
      "\u001b[1m2/2\u001b[0m \u001b[32m━━━━━━━━━━━━━━━━━━━━\u001b[0m\u001b[37m\u001b[0m \u001b[1m308s\u001b[0m 158s/step - accuracy: 0.7750 - loss: 0.5008\n",
      "Epoch 2/2\n",
      "\u001b[1m2/2\u001b[0m \u001b[32m━━━━━━━━━━━━━━━━━━━━\u001b[0m\u001b[37m\u001b[0m \u001b[1m1s\u001b[0m 264ms/step - accuracy: 0.0000e+00 - loss: 0.0000e+00\n"
     ]
    }
   ],
   "source": [
    "# Model fitting (training)\n",
    "epochs = 2\n",
    "\n",
    "history = model.fit(\n",
    "    train_generator,\n",
    "    epochs=epochs,\n",
    "    steps_per_epoch=len(train_generator),\n",
    "    verbose=1\n",
    ")"
   ]
  },
  {
   "cell_type": "code",
   "execution_count": 11,
   "id": "1cb57d4c-088e-456d-80bd-fe780fd30412",
   "metadata": {},
   "outputs": [],
   "source": [
    "#Testing data\n",
    "from tensorflow.keras.preprocessing.image import ImageDataGenerator"
   ]
  },
  {
   "cell_type": "code",
   "execution_count": 12,
   "id": "eab4224d-a26e-4568-8597-43933c08d25a",
   "metadata": {},
   "outputs": [],
   "source": [
    "test_data_directory = \"C:/Users/Lenovo/Desktop/test2\""
   ]
  },
  {
   "cell_type": "code",
   "execution_count": 13,
   "id": "d9f8fa36-10ab-4445-9bc6-b258433553a7",
   "metadata": {},
   "outputs": [],
   "source": [
    "test_data_generator = ImageDataGenerator(rescale=1./255)"
   ]
  },
  {
   "cell_type": "code",
   "execution_count": 14,
   "id": "009ba66a-7029-449d-ab94-7577a7374972",
   "metadata": {},
   "outputs": [
    {
     "name": "stdout",
     "output_type": "stream",
     "text": [
      "Found 10 images belonging to 2 classes.\n",
      "<keras.src.legacy.preprocessing.image.DirectoryIterator object at 0x000002760CCF49B0>\n"
     ]
    }
   ],
   "source": [
    "test_generator = test_data_generator.flow_from_directory(\n",
    "    test_data_directory,\n",
    "    target_size=(74,74),\n",
    "    batch_size=13,\n",
    "    class_mode=None,  \n",
    "    shuffle=False  \n",
    ")\n",
    "print(test_generator)"
   ]
  },
  {
   "cell_type": "code",
   "execution_count": 15,
   "id": "c495e515-f86d-4fac-9120-a9e20acc0bd9",
   "metadata": {},
   "outputs": [
    {
     "name": "stdout",
     "output_type": "stream",
     "text": [
      "Test data shape: (10, 74, 74, 3)\n"
     ]
    }
   ],
   "source": [
    "test_data_batch = next(test_generator)\n",
    "print(\"Test data shape:\", test_data_batch.shape)\n"
   ]
  },
  {
   "cell_type": "code",
   "execution_count": 16,
   "id": "6cbbf975-4885-4d00-94f9-a372d666a458",
   "metadata": {},
   "outputs": [
    {
     "name": "stdout",
     "output_type": "stream",
     "text": [
      "\u001b[1m1/1\u001b[0m \u001b[32m━━━━━━━━━━━━━━━━━━━━\u001b[0m\u001b[37m\u001b[0m \u001b[1m2s\u001b[0m 2s/step\n",
      "[[0.4613518 ]\n",
      " [0.19748299]\n",
      " [0.61229235]\n",
      " [0.5624878 ]\n",
      " [0.92041135]\n",
      " [0.44584003]\n",
      " [0.50988686]\n",
      " [0.5974084 ]\n",
      " [0.55661756]\n",
      " [0.69947773]]\n"
     ]
    }
   ],
   "source": [
    "predictions = model.predict(test_generator)\n",
    "print(predictions)"
   ]
  },
  {
   "cell_type": "code",
   "execution_count": 17,
   "id": "5111f01d-1708-4d75-bb35-e094026c3bd7",
   "metadata": {},
   "outputs": [
    {
     "name": "stdout",
     "output_type": "stream",
     "text": [
      "[0, 0, 1, 1, 1, 0, 1, 1, 1, 1]\n"
     ]
    }
   ],
   "source": [
    "predicted_labels = [1 if prediction > 0.5 else 0 for prediction in predictions]\n",
    "print(predicted_labels)"
   ]
  },
  {
   "cell_type": "code",
   "execution_count": 18,
   "id": "c4b2a529-d131-4d6c-9ec4-50c75af89230",
   "metadata": {},
   "outputs": [
    {
     "name": "stdout",
     "output_type": "stream",
     "text": [
      "[0 0 0 1 1 1 1 1 1 1]\n"
     ]
    }
   ],
   "source": [
    "actual_labels = test_generator.labels\n",
    "print(actual_labels)"
   ]
  },
  {
   "cell_type": "code",
   "execution_count": 19,
   "id": "79fb0e6e-f4f7-49c8-b96a-259b9ce359e3",
   "metadata": {},
   "outputs": [
    {
     "name": "stdout",
     "output_type": "stream",
     "text": [
      "\n",
      "Accuracy: 0.8\n",
      "Drowssiness not Detected\n"
     ]
    }
   ],
   "source": [
    "correct_predictions = sum(1 for pred, actual in zip(predicted_labels, actual_labels) if pred == actual)\n",
    "total_samples = len(actual_labels)\n",
    "print()\n",
    "accuracy = correct_predictions / total_samples\n",
    "print(\"Accuracy:\", accuracy)\n",
    "if accuracy <0.5:\n",
    "    print(\"drowssiness Detected\")\n",
    "else:\n",
    "    print(\"Drowssiness not Detected\")"
   ]
  },
  {
   "cell_type": "code",
   "execution_count": 20,
   "id": "9b474d69-190e-45ef-ab12-edb9a98ad82e",
   "metadata": {},
   "outputs": [
    {
     "name": "stderr",
     "output_type": "stream",
     "text": [
      "WARNING:absl:You are saving your model as an HDF5 file via `model.save()` or `keras.saving.save_model(model)`. This file format is considered legacy. We recommend using instead the native Keras format, e.g. `model.save('my_model.keras')` or `keras.saving.save_model(model, 'my_model.keras')`. \n"
     ]
    }
   ],
   "source": [
    "from tensorflow.keras.models import load_model\n",
    "\n",
    "# Assuming your model variable is named 'model'\n",
    "model.save('C:/Users/Lenovo/Downloads/my_model.h5')\n"
   ]
  },
  {
   "cell_type": "code",
   "execution_count": null,
   "id": "acd0e453-cc32-41b3-8dd8-b5c47bf77120",
   "metadata": {},
   "outputs": [],
   "source": []
  }
 ],
 "metadata": {
  "kernelspec": {
   "display_name": "Python 3 (ipykernel)",
   "language": "python",
   "name": "python3"
  },
  "language_info": {
   "codemirror_mode": {
    "name": "ipython",
    "version": 3
   },
   "file_extension": ".py",
   "mimetype": "text/x-python",
   "name": "python",
   "nbconvert_exporter": "python",
   "pygments_lexer": "ipython3",
   "version": "3.12.2"
  }
 },
 "nbformat": 4,
 "nbformat_minor": 5
}
